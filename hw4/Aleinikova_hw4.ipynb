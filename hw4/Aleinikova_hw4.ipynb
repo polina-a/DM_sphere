{
 "cells": [
  {
   "cell_type": "markdown",
   "metadata": {},
   "source": [
    "# Алгоритмы интеллектуальной обработки больших объемов данных\n",
    "## Домашнее задание №4 - Алгоритмы кластеризации\n"
   ]
  },
  {
   "cell_type": "markdown",
   "metadata": {},
   "source": [
    "###### <hr\\>\n",
    "**Общая информация**\n",
    "\n",
    "**Срок сдачи:** 10 декабря 2019, 06:00 <br\\>\n",
    "**Штраф за опоздание:** -2 балла после 06:00 10 декабря, -4 балла после 06:00 17 декабря, -6 баллов после 06:00 24 декабря -8 баллов  после 06:00 31 декабря\n",
    "\n",
    "При отправлении ДЗ указывайте фамилию в названии файла Присылать ДЗ необходимо в виде ссылки на свой github репозиторий на почту ml1.sphere@mail.ru с указанием темы в следующем формате:\n",
    "[ML0919, Задание 4] Фамилия Имя\n",
    "\n",
    "Используйте данный Ipython Notebook при оформлении домашнего задания.\n",
    "<hr\\>"
   ]
  },
  {
   "cell_type": "markdown",
   "metadata": {},
   "source": [
    "**Из чего состоит задание:**\n",
    "\n",
    "###### Теоретические вопросы (2 балла)\n",
    "\n",
    "###### Реализация алгоритма кластеризации (5 баллов)\n",
    "\n",
    "###### Боевое применение (3 балла)\n",
    "\n",
    "\n"
   ]
  },
  {
   "cell_type": "markdown",
   "metadata": {},
   "source": [
    "**Штрафные баллы:**\n",
    "\n",
    "1. Невыполнение PEP8 -1 балл\n",
    "2. Отсутствие фамилии в имени скрипта (скрипт должен называться по аналогии со stroykova_hw4.ipynb) -1 балл\n",
    "3. Все строчки должны быть выполнены. Нужно, чтобы output команды можно было увидеть уже в git'е. В противном случае -1 балл\n",
    "4. При оформлении ДЗ нужно пользоваться данным файлом в качестве шаблона. Не нужно удалять и видоизменять написанный код и текст. В противном случае -1 балл"
   ]
  },
  {
   "cell_type": "code",
   "execution_count": 1,
   "metadata": {},
   "outputs": [
    {
     "name": "stdout",
     "output_type": "stream",
     "text": [
      "Populating the interactive namespace from numpy and matplotlib\n"
     ]
    }
   ],
   "source": [
    "import time\n",
    "import pandas as pd\n",
    "import pylab as pl\n",
    "import numpy as np\n",
    "import scipy.spatial as ss\n",
    "import sklearn.cluster as sc\n",
    "import sklearn.manifold as sm\n",
    "import sklearn.datasets as ds\n",
    "import sklearn.metrics as smt\n",
    "from sklearn.mixture import GaussianMixture\n",
    "from sklearn.cluster import AgglomerativeClustering\n",
    "from scipy.spatial import distance\n",
    "import matplotlib.pyplot as plt\n",
    "\n",
    "%matplotlib inline\n",
    "\n",
    "plt.style.use('ggplot')\n",
    "plt.rcParams['figure.figsize'] = (12,5)\n",
    "\n",
    "# Plotting config\n",
    "%pylab inline"
   ]
  },
  {
   "cell_type": "markdown",
   "metadata": {},
   "source": [
    "# Теоретическое введение\n"
   ]
  },
  {
   "cell_type": "markdown",
   "metadata": {},
   "source": [
    "Основная задача кластерного анализа — разбиение исходного набора объектов на группы (кластеры) таким образом, чтобы объекты в группе были похожи друг на друга, а объекты из разных групп - отличались. \n",
    "\n",
    "В этой работе мы будем реализовывать агломеративную кластеризацию. "
   ]
  },
  {
   "cell_type": "markdown",
   "metadata": {
    "collapsed": true
   },
   "source": [
    "## Агломеративная кластеризация"
   ]
  },
  {
   "cell_type": "markdown",
   "metadata": {},
   "source": [
    "Иерархические алгоритмы кластеризации строят на выборке систему вложенных разбиений.  Наиболее часто испоьзуемые иерархические алгоритмы - агломеративные алгоритмы, которые строят ирархию по восходящей, то есть от момента, когда все элементы являются отдельными кластерами, до того момента, пока вся выборка не станет одним кластером."
   ]
  },
  {
   "cell_type": "markdown",
   "metadata": {},
   "source": [
    "Сам алгоритм описать можно примерно так:\n",
    "\n",
    "* начинаем с ситуации, когда каждый объект - отдельный кластер\n",
    "* на каждом шаге совмещаем два наиболее близких кластера\n",
    "* останавливаемся, когда получаем требуемое количество или единственный кластер"
   ]
  },
  {
   "cell_type": "markdown",
   "metadata": {},
   "source": [
    "\n",
    "В данной работе Вам предлагается реализовать три варианта расстояний между кластерами, по которым Вы определяете пару для слияния: \n",
    "* Single linkage\n",
    "$$ d_{min}(C_i, C_j) = \\min_{\\mathbf{x} \\in C_i, \\mathbf{x}' \\in C_j} \\|\\mathbf{x} -\\mathbf{x}' \\| $$\n",
    "\n",
    "* Complete linkage\n",
    "$$ d_{max}(C_i, C_j) = \\max_{\\mathbf{x} \\in C_i, \\mathbf{x}' \\in C_j} \\|\\mathbf{x} -\\mathbf{x}' \\| $$\n",
    "\n",
    "* Average linkage\n",
    "$$ d_{avg}(C_i, C_j) = \\frac{1}{n_i n_j}\\sum_{\\mathbf{x} \\in C_i}\\sum_{\\mathbf{x}' \\in C_j} \\|\\mathbf{x} -\\mathbf{x}' \\| $$\n",
    "\n",
    "Как считать расстояние $\\|\\mathbf{x} -\\mathbf{x}' \\|$ между объектами Вы должны выбрать сами.  Вы должны четко понимать, что выбор расстояния между объектами - самое важное в такого рода алгоритмах. Передавайте название расстояния в конструктор класса, а потом, в зависимости от названия, применяете ту или иную функцию для подсчета расстояния. \n",
    "\n"
   ]
  },
  {
   "cell_type": "markdown",
   "metadata": {},
   "source": [
    "Для того, чтобы на втором этапе нам не пересчитывать заново расстояния между всеми парами кластеров, можно использовать Формулы Ланса-Вильямса, которые позволяют посчитать расстояние между кластерами после объединения, используя только расстояния между кластерами до объедения.  Таким образом, достаточно будет посчитать расстояния только между всеми одноэлементными кластерами (первый этап), а затем пересчитывать расстояния при их объединении через \n",
    "формулы Ланса-Вильямса. \n",
    "\n",
    "Общая  формула выглядит так:\n",
    "$$ d(C_i \\cup C_j, C_k) = a_i \\cdot d(C_i, C_k) + a_j \\cdot d(C_j, C_k) + b \\cdot d(C_i, C_j) + c \\cdot |d(C_i, C_k) - d(C_j, C_k)|$$\n",
    "\n",
    "Можно показать, что все относительно разумные кластерные расстояния можно описать данной формулой. \n",
    "\n",
    "Для интересущих нас linkage:\n",
    "\n",
    "* single-linkage       $a_i = \\frac{1}{2}, a_j =  \\frac{1}{2}, b = 0, c =  - \\frac{1}{2} $\n",
    "\n",
    "* complete-linkage     $a_i = \\frac{1}{2}, a_j =  \\frac{1}{2}, b = 0, c =   \\frac{1}{2} $\n",
    "\n",
    "* average-linkage       $a_i = \\frac{|C_i|}{|C_i \\cup C_j|}, a_j =  \\frac{|C_j|}{|C_i \\cup C_j|}, b = 0, c = 0 $\n",
    "\n"
   ]
  },
  {
   "cell_type": "markdown",
   "metadata": {},
   "source": [
    "# Теоретические вопросы (2 балла)\n",
    "В этой части Вам будут предложены теоретичские вопросы и задачи по теме. Вы, конечно, можете списать их у своего товарища или найти решение в интернете, но учтите, что они обязательно войдут в теоретический коллоквиум. Лучше разобраться в теме сейчас и успешно ответить на коллоквиуме, чем списать, не разобравшись в материале, и быть терзаемым совестью. \n",
    "\n",
    "\n",
    "Формулы надо оформлять в формате **LaTeX**."
   ]
  },
  {
   "cell_type": "markdown",
   "metadata": {},
   "source": [
    "Задача 1. Сходимость kmeans.\n",
    "\n",
    "Докажите, что kmeans всегда сходится, и итераций не будет превышать $k^N$, где $k$ $-$ число кластеров, $N$ $-$ число объектов\n",
    "\n",
    "Подсказка: Вам стоит рассмотреть функционал, который минимизирует алгоритм, и подумать, как он изменяется на E шаге и на M шаге.\n",
    "\n"
   ]
  },
  {
   "cell_type": "markdown",
   "metadata": {},
   "source": [
    "***Ваше решение здесь***\n",
    "$Q=\\sum_{n=1}^{N} \\sum_{k=1}^{K} r_{n, k}\\left\\|x_{n}-\\mu_{k}\\right\\|^{2}$ - оптимизируемый функционал \n",
    "\n",
    "Назовем разбиением $R$ совокупность $r_{n, k}$. В всего имеется $k^N$ различных разбиений, значит за $k^N$ шагов ($k^N + 1$ состояний) будут существовать два разбиения $R_{i}$ и $R_{j}$, такие что $R_{i} = R_{j}$, $i < j$.\n",
    "\n",
    "Покажем что функционал убывает от состояния к состоянию(если состояния различны) при шаге нашего алгоритма: \n",
    "\n",
    "Е-шаг: $\\mu_{k}$ - фиксированны, тогда очевидно, что $Q=\\sum_{n=1}^{N} \\sum_{k=1}^{K} r_{n, k}\\left\\|x_{n}-\\mu_{k}\\right\\|^{2}$ - минимален, когда каждое слагаемое $\\sum_{k=1}^{K}\\left\\|x_{n}-\\mu_{k}\\right\\|^{2}$ - минимально, именно в это состояние мы приводим функционал на данном шаге - относим, объект к ближайшему кластеру. Таким образом если мы поменяли принадлежность хоть одного объекта функционал уменьшился.\n",
    "\n",
    "М-шаг: теперь $r_{n, k}$ - фиксированны, рассмотрим $K_{i}$ - некий кластер: $\\sum_{n \\in K_{i}} \\left\\|x_{n}-\\mu_{i}\\right\\|^{2}$ - данная функционал минимален, если $\\mu_{i}$ - барицентр, и именно к барицентру наш алгоритм приводит точку $\\mu_{i}$, т.к. по сути после преобразования $\\mu_{i_{new}}=\\frac{\\mathbf{x}_{1}+\\mathbf{x}_{2}+\\cdots+\\mathbf{x}_{k}}{k}, x_{k} \\in K_{i}$. Значит, если $\\mu_{i}$ изначально не совпадал с барицентром, то после преобразования значение функционала уменьшилось.\n",
    "\n",
    "Значит после обоих шагов алгоритма расстояние уменьшилось, и не изменилось только в том случае если не изменилось разбиение, значит что каждому разбиению можно сопоставить число равное значентию функционала потерь при данном разбиении(центр кластера ссовпадает с барицентром).\n",
    "\n",
    "Значит, если $R_{i}$ и $R_{j}$ идут подряд, значит система стабилизировалась. А метод сошелся."
   ]
  },
  {
   "cell_type": "markdown",
   "metadata": {},
   "source": [
    "Задача 2.  ММП для многомерного нормального распределения.\n",
    "\n",
    "Функция правдоподобия в общем случае записывается как:\n",
    "￼\n",
    "￼$$ L(\\theta) = p(X | \\theta ) = \\prod_{i=1}^N p(x_i | \\theta)$$\n",
    "\n",
    "Для многомерного нормального распределения плотность вероятности:\n",
    "$$p(x_i| \\theta) = \\frac{1}{(2\\pi)^{n/2}|\\Sigma|^{1/2}}e^{-\\frac{1}{2} (x_i - \\mu)^T\\Sigma^{-1}(x_i - \\mu)}$$\n",
    "\n",
    "Выведите ММП оценку для вектора $\\mu$\n",
    "￼"
   ]
  },
  {
   "cell_type": "markdown",
   "metadata": {},
   "source": [
    "***Ваше решение здесь***\n",
    "\n",
    "￼$$ ln(L(\\theta)) = ln(p(X | \\theta )) = ln(\\prod_{i=1}^N p(x_i | \\theta)) = \\sum_{i=1}^N ln(p(x_i | \\theta)) $$\n",
    "$$ ln(L(\\theta)) = \\sum_{i=1}^N ln\\frac{1}{(2\\pi)^{n/2}|\\Sigma|^{1/2}}   - {-\\frac{1}{2} (x_i - \\mu)^T\\Sigma^{-1}(x_i - \\mu)} $$\n",
    "$$ \\frac {\\partial{lnL(\\theta))}}{\\partial{\\mu}}  = -\\frac{1}{2}\\sum_{i=1}^N \\frac{\\partial}{\\partial{\\mu}} (x_i^T\\Sigma^{-1}x_i - x_i^T \\Sigma^{-1} \\mu -\\mu^T \\Sigma^{-1} x_i+ \\mu^T\\Sigma^{-1} \\mu ) = 0 $$\n",
    "\n",
    "$$ \\frac {\\partial{lnL(\\theta))}}{\\partial{\\mu}} = -\\frac{1}{2}\\sum_{i=1}^N(-\\Sigma^{-1}x_i - (x_i^T\\Sigma^{-1})^{T})  + N(\\Sigma^{-1}\\mu +(\\mu_i^T\\Sigma^{-1})^T) = 0$$\n",
    " \n",
    "$$N(\\Sigma^{-1} +(\\Sigma^{-1})^T)\\mu  =  \\sum_{i=1}^N(\\Sigma^{-1} +(\\Sigma^{-1})^T)x_i$$\n",
    "\n",
    "$$ \\mu = \\frac{1}{N} (\\Sigma^{-1} +(\\Sigma^{-1})^T)^{-1}(\\Sigma^{-1} +(\\Sigma^{-1})^T) \\sum_{i=1}^N x_i$$\n",
    "$$ \\mu = \\frac{1}{N} \\sum_{i=1}^N x_i $$"
   ]
  },
  {
   "cell_type": "markdown",
   "metadata": {},
   "source": [
    "Задача 3. Формулы Ланса-Вильямса.\n",
    "\n",
    "Формулы Ланса-Вильямса крайне удобны для быстрого пересчта расстояний в агломеративной кластеризации. Давайте докажем  формулы для single и complete linkage. \n",
    "\n",
    "Докажите, что:\n",
    "\n",
    "$d_{\\min}(U \\cup V, S) = \\frac{1}{2} d_{\\min}(U, S) + \\frac{1}{2} d_{\\min}(V, S)  - \\frac{1}{2} | d_{\\min}(U, S) - d_{\\min}(V, S) |  $\n",
    "\n",
    "\n",
    "$d_{\\max}(U \\cup V, S) = \\frac{1}{2} d_{\\max}(U, S) + \\frac{1}{2} d_{\\max}(V, S)  + \\frac{1}{2} | d_{\\max}(U, S) - d_{\\max}(V, S) |  $\n",
    "\n",
    "\n"
   ]
  },
  {
   "cell_type": "markdown",
   "metadata": {},
   "source": [
    "***Ваше решение здесь***\n",
    "\n",
    "\n",
    "$d_{\\max}(U \\cup V, S)=\\max(d_{\\max}(U, S),d_{\\max}(V, S))$\n",
    "$=\\frac{1}{2} d_{\\max}(U, S) + \\frac{1}{2} d_{\\max}(V, S)  + \\frac{1}{2} | d_{\\max}(U, S) - d_{\\max}(V, S) |$\n",
    "$d_{\\min}(U \\cup V, S)=\\min(d_{\\min}(U, S),d_{\\min}(V, S))$\n",
    "$=\\frac{1}{2} d_{\\min}(U, S) + \\frac{1}{2} d_{\\min}(V, S)  - \\frac{1}{2} | d_{\\min}(U, S) - d_{\\min}(V, S) |$"
   ]
  },
  {
   "cell_type": "markdown",
   "metadata": {},
   "source": [
    "# Реализация алгоритма кластеризации  (5 баллов)"
   ]
  },
  {
   "cell_type": "markdown",
   "metadata": {},
   "source": [
    "Алгоритм кластеризации должен удовлетворять следующему интерфейсу. Конструктор принимает набор параметров, необходимых для работы алгоритма кластеризации. Метод `fit` подсчитывает параметры модели и возвращает `self`. Метод `predict` возвращает вектор с индексами кластеров для поданных в него объектов `x`. "
   ]
  },
  {
   "cell_type": "code",
   "execution_count": 15,
   "metadata": {},
   "outputs": [],
   "source": [
    "from sklearn.base import BaseEstimator, ClusterMixin\n",
    "from scipy.cluster.hierarchy import dendrogram\n",
    "from copy import deepcopy\n",
    "\n",
    "class Clustering(BaseEstimator, ClusterMixin):\n",
    "    \"\"\"\n",
    "    Implement clustering algorithm according \n",
    "    \"\"\"\n",
    "    \n",
    "    def __init__(self,n_clusters = 2, metric = 'euclidean', linkage='single', **kwargs):\n",
    "        \"\"\"\n",
    "        metric - string with name of metric, for example, euclidean\n",
    "        Please add necessary algoritm parameters to class constructor.\n",
    "        \"\"\"\n",
    "        self.n_clusters=n_clusters\n",
    "        self.metric=metric\n",
    "        self.linkage=linkage\n",
    "        \n",
    "        if metric == 'euclidean':\n",
    "            self.dist = distance.euclidean\n",
    "        if metric == 'manhattan':\n",
    "            self.dist = distance.cityblock\n",
    "        if metric == 'cosine':\n",
    "            self.dist = distance.cosine\n",
    "        if metric == 'minkowski':\n",
    "            self.dist = distance.minkowski\n",
    "\n",
    "        if linkage == 'single':\n",
    "            self.a_i = 1/2.\n",
    "            self.a_j = 1/2.\n",
    "            self.c = -1/2.\n",
    "        elif linkage == 'complete':\n",
    "            self.a_i = 1/2.\n",
    "            self.a_j = 1/2.\n",
    "            self.c = 1/2.\n",
    "        elif linkage == 'average':\n",
    "            self.c = 0\n",
    "\n",
    "        return\n",
    "        \n",
    "    def fit_predict(self, x):\n",
    "        \"\"\"\n",
    "        Use data matrix x to compute model parameters and predict clusters\n",
    "        \"\"\"\n",
    "        self.x_len = len(x)\n",
    "        dist_matrix = np.matrix([[self.dist(x[i],x[j]) if i!=j else np.inf \\\n",
    "                                  for i in range(self.x_len)] for j in range(self.x_len)])\n",
    "        self.history = []\n",
    "        self.n_steps = self.x_len-1\n",
    "        self.clusts = [[i] for i in range(self.x_len)]\n",
    "        self.cl = deepcopy(self.clusts)\n",
    "        \n",
    "        \n",
    "        for i in range(self.n_steps):\n",
    "            if i == self.x_len-self.n_clusters:\n",
    "                self.clusters = deepcopy(self.clusts)\n",
    "                \n",
    "            ind = np.unravel_index(np.argmin(dist_matrix), dist_matrix.shape)\n",
    "            \n",
    "            C_i= self.clusts[ind[0]]\n",
    "            C_j = self.clusts[ind[1]]\n",
    "            C_ij = C_i+C_j\n",
    "            \n",
    "            self.clusts.remove(C_i)\n",
    "            self.clusts.remove(C_j)\n",
    "            self.clusts.append(C_ij)\n",
    "            self.cl.append(C_ij)\n",
    "            \n",
    "            self.history.append([self.cl.index(C_i), self.cl.index(C_j), \\\n",
    "                           dist_matrix[ind[0],ind[1]], len(C_i)+len(C_j)])\n",
    "            \n",
    "            if self.linkage =='average':\n",
    "                denominator = len(C_i) + len(C_j)\n",
    "                self.a_i = len(C_i) / denominator\n",
    "                self.a_j = len(C_j) / denominator\n",
    "                \n",
    "            new_dist0 = np.ones(dist_matrix.shape[0])\n",
    "            new_dist1 = np.ones(dist_matrix.shape[0]+1)\n",
    "            \n",
    "            for k in range(dist_matrix.shape[0]):\n",
    "                new_dist0[k] = new_dist1[k]=self.a_i*dist_matrix[ind[0],k] + self.a_j*dist_matrix[ind[1],k] +\\\n",
    "                                self.c*abs(dist_matrix[ind[0],k] - dist_matrix[ind[1],k])\n",
    "                if k in ind:\n",
    "                    new_dist0[k]=new_dist1[k]=np.inf\n",
    "                    \n",
    "            new_dist1[dist_matrix.shape[0]] = np.inf\n",
    "            new_dist0 = np.expand_dims(new_dist0, axis=1)\n",
    "            dist_matrix = np.concatenate((dist_matrix, new_dist0), 1)\n",
    "            new_dist1 = np.expand_dims(new_dist1, axis=0)\n",
    "            dist_matrix = np.concatenate((dist_matrix, new_dist1), 0)\n",
    "            dist_matrix = np.delete(dist_matrix,(ind[0],ind[1]), 0)\n",
    "            dist_matrix = np.delete(dist_matrix,(ind[0],ind[1]), 1)\n",
    "            \n",
    "        self.history=np.array(self.history, dtype='float64')\n",
    "        clusters_labels = np.ones(self.x_len, dtype=int)\n",
    "        for cluster_number, number in enumerate(self.clusters):\n",
    "            clusters_labels[number] = cluster_number\n",
    "            \n",
    "        return clusters_labels\n",
    "    \n",
    "    def plot_dendrogram(self):\n",
    "        \"\"\"\n",
    "        Try to visualize our data\n",
    "        \"\"\"\n",
    "        plt.figure(figsize = (16, 8))\n",
    "        dendrogram(self.history)\n",
    "        pass"
   ]
  },
  {
   "cell_type": "markdown",
   "metadata": {},
   "source": [
    "Сначала проверим реализованный алгоритм кластеризации на классическом наборе данных [Iris](http://www.wikiwand.com/en/Iris_flower_data_set). Загрузим данные (они включены в библиотеку sklearn) и посмотрим на то, как они выглядят в двух проекциях (для простоты используем 2 класса из 3)."
   ]
  },
  {
   "cell_type": "code",
   "execution_count": 16,
   "metadata": {},
   "outputs": [
    {
     "data": {
      "image/png": "[encoded data removed]",
      "text/plain": [
       "<Figure size 720x360 with 2 Axes>"
      ]
     },
     "metadata": {
      "needs_background": "light"
     },
     "output_type": "display_data"
    }
   ],
   "source": [
    "iris = ds.load_iris()\n",
    "x_iris = iris.data[:100]\n",
    "y_iris = iris.target[:100]\n",
    "\n",
    "pl.figure(figsize=(10, 5))\n",
    "\n",
    "pl.subplot(1, 2, 1)\n",
    "pl.scatter(x_iris[:, 0], x_iris[:, 1], c=y_iris, cmap=pl.cm.PuOr, lw=0, s=30)\n",
    "plt.xlabel('Sepal length')\n",
    "plt.ylabel('Sepal width')\n",
    "\n",
    "pl.subplot(1, 2, 2)\n",
    "pl.scatter(x_iris[:, 2], x_iris[:, 3], c=y_iris, cmap=pl.cm.PuOr, lw=0, s=30)\n",
    "plt.xlabel('Petal length')\n",
    "plt.ylabel('Petal width')\n",
    "pl.show()"
   ]
  },
  {
   "cell_type": "markdown",
   "metadata": {},
   "source": [
    "Видно, что классы разделяются, поэтому можно надеяться, что наш алгоритм \"найдет\" кластеры, соответствующие исходным классам. Результат работы реализованного алгоритма кластеризации предлагается сравнить с эталонной кластеризацией. Для этого предлагается изучить метрику ([adjusted rand score](http://scikit-learn.org/stable/modules/generated/sklearn.metrics.adjusted_rand_score.html)). В случае если значение этой метрики отличается от 1, предлагается поработать над улучшением реализации своего алгоритма."
   ]
  },
  {
   "cell_type": "code",
   "execution_count": 17,
   "metadata": {},
   "outputs": [
    {
     "name": "stdout",
     "output_type": "stream",
     "text": [
      " Sklearn AGGL score 1.0. Sklearn AGGL time 0.002679109573364258\n"
     ]
    }
   ],
   "source": [
    "# Давайте проверим, как справляются sklearn реализации\n",
    "sklearn_aggl = AgglomerativeClustering(n_clusters=2)\n",
    "aggl_t0 = time.time()\n",
    "aggl_pred = sklearn_aggl.fit_predict(x_iris)\n",
    "aggl_diff = time.time() - aggl_t0\n",
    "aggl_score = smt.adjusted_rand_score(y_iris, aggl_pred)\n",
    "print (\" Sklearn AGGL score {}. Sklearn AGGL time {}\".format(aggl_score, aggl_diff))\n"
   ]
  },
  {
   "cell_type": "code",
   "execution_count": 18,
   "metadata": {},
   "outputs": [
    {
     "name": "stdout",
     "output_type": "stream",
     "text": [
      "Our AGGL score 1.0. Our AGGL time 0.2276620864868164\n"
     ]
    },
    {
     "data": {
      "image/png": "[encoded data removed]",
      "text/plain": [
       "<Figure size 1152x576 with 1 Axes>"
      ]
     },
     "metadata": {
      "needs_background": "light"
     },
     "output_type": "display_data"
    }
   ],
   "source": [
    "# Здесь предскажем кластера, посчитаем метрику кластеризации и время работы, сравним со склерном\n",
    "сustum_aggl = Clustering(metric='euclidean', n_clusters=2)\n",
    "aggl_t0 = time.time()\n",
    "aggl_pred = сustum_aggl.fit_predict(x_iris)\n",
    "aggl_diff = time.time() - aggl_t0\n",
    "aggl_score = smt.adjusted_rand_score(y_iris, aggl_pred)\n",
    "print (\"Our AGGL score {}. Our AGGL time {}\".format(aggl_score, aggl_diff))\n",
    "сustum_aggl.plot_dendrogram()"
   ]
  },
  {
   "cell_type": "markdown",
   "metadata": {
    "collapsed": true
   },
   "source": [
    "# Боевое применение (3  балла)\n"
   ]
  },
  {
   "cell_type": "markdown",
   "metadata": {
    "collapsed": true
   },
   "source": [
    "Алгоритмы кластеризации прекрасны тем, что они позволяют быстро понять, как устроены наши данные. Давайте применим Ваш алгоритм для нашего конкурса!"
   ]
  },
  {
   "cell_type": "markdown",
   "metadata": {},
   "source": [
    "Будем рассматривать каждую группу независимо от других групп. На каждой группе применим наш алгоритм и отрисуем денденограмму. По результатам кластерного анализа, Вам нужно ответить на следующие вопросы:\n",
    "\n",
    "1) Можно ли по дендонаграмме (или по другим результатам кластеризации) сказать, где в группе аномалии? Каким образом?\n",
    "\n",
    "2) Какое расстояние лучше использовать между заголовками страниц для кластеризации? \n",
    "\n",
    "2) Какое качество f1_score Вы смогли получить на обучающем множестве методами кластеризации? (валидацию можете не делать, если таргет не используете)\n",
    "\n",
    "4) Как можно результат кластеризации затем использовать для  финальной модели обучения с учителем?"
   ]
  },
  {
   "cell_type": "markdown",
   "metadata": {},
   "source": [
    "Подсказка: самое важное - выбрать расстояние между заголовками. Самый простой вариант:  процент различных слов в двух заголовках."
   ]
  },
  {
   "cell_type": "code",
   "execution_count": 19,
   "metadata": {},
   "outputs": [
    {
     "name": "stdout",
     "output_type": "stream",
     "text": [
      "28026\n"
     ]
    }
   ],
   "source": [
    "doc_to_title = {}\n",
    "with open('docs_titles.tsv') as f:\n",
    "    for num_line, line in enumerate(f):\n",
    "        if num_line == 0:\n",
    "            continue\n",
    "        data = line.strip().split('\\t', 1)\n",
    "        doc_id = int(data[0])\n",
    "        if len(data) == 1:\n",
    "            title = ''\n",
    "        else:\n",
    "            title = data[1]\n",
    "        doc_to_title[doc_id] = title\n",
    "print(len(doc_to_title))"
   ]
  },
  {
   "cell_type": "code",
   "execution_count": 20,
   "metadata": {},
   "outputs": [
    {
     "data": {
      "text/plain": [
       "129"
      ]
     },
     "execution_count": 20,
     "metadata": {},
     "output_type": "execute_result"
    }
   ],
   "source": [
    "train_data = pd.read_csv('train_groups.csv')\n",
    "traingroups_titledata = {}\n",
    "for i in range(len(train_data)):\n",
    "    new_doc = train_data.iloc[i]\n",
    "    doc_group = new_doc['group_id']\n",
    "    doc_id = new_doc['doc_id']\n",
    "    target = new_doc['target']\n",
    "    title = doc_to_title[doc_id]\n",
    "    if doc_group not in traingroups_titledata:\n",
    "        traingroups_titledata[doc_group] = []\n",
    "    traingroups_titledata[doc_group].append((doc_id, title, target))\n",
    "len(traingroups_titledata)    "
   ]
  },
  {
   "cell_type": "markdown",
   "metadata": {},
   "source": [
    "Кластеризацию проводите в каждой группе отдельно, то есть изучайте, можно ли в группе  найти подкластер выбросов\n",
    "\n",
    "Документы можно представлять, например, словами из тайтла.\n",
    "\n",
    "Главное подобрать хорошую функцию расстояния между документами\n"
   ]
  },
  {
   "cell_type": "markdown",
   "metadata": {},
   "source": [
    "Замечание: в кластеризации можно использовать все данные, то есть трейн + тест, чтобы находить больше закономерностей "
   ]
  },
  {
   "cell_type": "code",
   "execution_count": 24,
   "metadata": {},
   "outputs": [
    {
     "name": "stdout",
     "output_type": "stream",
     "text": [
      "f1_score для группы 1 = 0.0\n",
      "f1_score для группы 2 = 0.26\n",
      "f1_score для группы 3 = 0.1978021978021978\n",
      "f1_score для группы 4 = 0.15384615384615385\n",
      "f1_score для группы 5 = 0.0\n",
      "f1_score для группы 6 = 0.08333333333333333\n",
      "f1_score для группы 7 = 0.1414141414141414\n",
      "f1_score для группы 8 = 0.0\n",
      "f1_score для группы 9 = 0.09523809523809525\n",
      "f1_score для группы 10 = 0.0\n",
      "f1_score для группы 11 = 0.0\n",
      "f1_score для группы 12 = 0.1904761904761905\n",
      "f1_score для группы 13 = 0.6666666666666666\n",
      "f1_score для группы 14 = 0.0\n",
      "f1_score для группы 15 = 0.0\n",
      "f1_score для группы 16 = 0.6666666666666666\n",
      "f1_score для группы 17 = 0.8275862068965517\n",
      "f1_score для группы 18 = 0.0\n",
      "f1_score для группы 19 = 0.12499999999999999\n",
      "f1_score для группы 20 = 0.0\n",
      "f1_score для группы 21 = 0.0\n",
      "f1_score для группы 22 = 0.9316770186335404\n",
      "f1_score для группы 23 = 0.7310344827586207\n",
      "f1_score для группы 24 = 0.6666666666666666\n",
      "f1_score для группы 25 = 0.02666666666666666\n",
      "f1_score для группы 26 = 0.9605263157894737\n",
      "f1_score для группы 27 = 0.13333333333333333\n",
      "f1_score для группы 28 = 0.1212121212121212\n",
      "f1_score для группы 29 = 0.13333333333333333\n",
      "f1_score для группы 30 = 0.17142857142857143\n",
      "f1_score для группы 31 = 0.1923076923076923\n",
      "f1_score для группы 32 = 0.1592920353982301\n",
      "f1_score для группы 33 = 0.9666666666666666\n",
      "f1_score для группы 34 = 0.6933333333333334\n",
      "f1_score для группы 35 = 0.198019801980198\n",
      "f1_score для группы 36 = 0.026315789473684213\n",
      "f1_score для группы 37 = 0.8484848484848484\n",
      "f1_score для группы 38 = 0.05405405405405405\n",
      "f1_score для группы 39 = 0.0\n",
      "f1_score для группы 40 = 0.11650485436893204\n",
      "f1_score для группы 41 = 0.0\n",
      "f1_score для группы 42 = 0.8409090909090908\n",
      "f1_score для группы 43 = 0.0\n",
      "f1_score для группы 44 = 0.0\n",
      "f1_score для группы 45 = 0.6218487394957983\n",
      "f1_score для группы 46 = 0.0\n",
      "f1_score для группы 47 = 0.21505376344086022\n",
      "f1_score для группы 48 = 0.5526315789473685\n",
      "f1_score для группы 49 = 0.9738219895287958\n",
      "f1_score для группы 50 = 0.9704142011834319\n",
      "f1_score для группы 51 = 0.0\n",
      "f1_score для группы 52 = 0.0\n",
      "f1_score для группы 53 = 0.1111111111111111\n",
      "f1_score для группы 54 = 0.11764705882352941\n",
      "f1_score для группы 55 = 0.0\n",
      "f1_score для группы 56 = 0.17391304347826084\n",
      "f1_score для группы 57 = 0.2580645161290323\n",
      "f1_score для группы 58 = 0.0\n",
      "f1_score для группы 59 = 0.0\n",
      "f1_score для группы 60 = 0.9333333333333333\n",
      "f1_score для группы 61 = 0.13186813186813187\n",
      "f1_score для группы 62 = 0.0980392156862745\n",
      "f1_score для группы 63 = 0.1111111111111111\n",
      "f1_score для группы 64 = 0.20408163265306123\n",
      "f1_score для группы 65 = 0.0\n",
      "f1_score для группы 66 = 0.0\n",
      "f1_score для группы 67 = 0.04081632653061224\n",
      "f1_score для группы 68 = 0.0\n",
      "f1_score для группы 69 = 0.7544910179640719\n",
      "f1_score для группы 70 = 0.0\n",
      "f1_score для группы 71 = 0.5737704918032787\n",
      "f1_score для группы 72 = 0.0\n",
      "f1_score для группы 73 = 0.12499999999999999\n",
      "f1_score для группы 74 = 0.0\n",
      "f1_score для группы 75 = 0.11764705882352941\n",
      "f1_score для группы 76 = 0.5671641791044776\n",
      "f1_score для группы 77 = 0.9690721649484536\n",
      "f1_score для группы 78 = 0.1414141414141414\n",
      "f1_score для группы 79 = 0.17142857142857143\n",
      "f1_score для группы 80 = 0.046511627906976744\n",
      "f1_score для группы 81 = 0.0\n",
      "f1_score для группы 82 = 0.037037037037037035\n",
      "f1_score для группы 83 = 0.6493506493506493\n",
      "f1_score для группы 84 = 0.3252032520325203\n",
      "f1_score для группы 85 = 0.7976190476190476\n",
      "f1_score для группы 86 = 0.7730061349693252\n",
      "f1_score для группы 87 = 0.9365079365079364\n",
      "f1_score для группы 88 = 0.36\n",
      "f1_score для группы 89 = 0.17777777777777776\n",
      "f1_score для группы 90 = 0.11764705882352941\n",
      "f1_score для группы 91 = 0.846153846153846\n",
      "f1_score для группы 92 = 0.0\n",
      "f1_score для группы 93 = 0.13592233009708737\n",
      "f1_score для группы 94 = 0.0\n",
      "f1_score для группы 95 = 0.0\n",
      "f1_score для группы 96 = 0.07999999999999999\n",
      "f1_score для группы 97 = 0.043478260869565216\n",
      "f1_score для группы 98 = 0.11764705882352941\n",
      "f1_score для группы 99 = 0.48888888888888893\n",
      "f1_score для группы 100 = 0.9659863945578231\n",
      "f1_score для группы 101 = 0.0\n",
      "f1_score для группы 102 = 0.0\n",
      "f1_score для группы 103 = 0.163265306122449\n",
      "f1_score для группы 104 = 0.15384615384615385\n",
      "f1_score для группы 105 = 0.1875\n",
      "f1_score для группы 106 = 0.12903225806451613\n",
      "f1_score для группы 107 = 0.0\n",
      "f1_score для группы 108 = 0.0\n",
      "f1_score для группы 109 = 0.14814814814814814\n",
      "f1_score для группы 110 = 0.0\n",
      "f1_score для группы 111 = 0.23214285714285718\n",
      "f1_score для группы 112 = 0.0\n",
      "f1_score для группы 113 = 0.0792079207920792\n",
      "f1_score для группы 114 = 0.18181818181818182\n",
      "f1_score для группы 115 = 0.7755102040816326\n",
      "f1_score для группы 116 = 0.16494845360824742\n",
      "f1_score для группы 117 = 0.16666666666666669\n",
      "f1_score для группы 118 = 0.7482993197278911\n",
      "f1_score для группы 119 = 0.7839999999999999\n",
      "f1_score для группы 120 = 0.8857142857142858\n",
      "f1_score для группы 121 = 0.962962962962963\n",
      "f1_score для группы 122 = 0.4210526315789474\n",
      "f1_score для группы 123 = 0.8571428571428571\n",
      "f1_score для группы 124 = 0.9128205128205129\n",
      "f1_score для группы 125 = 0.15841584158415845\n",
      "f1_score для группы 126 = 0.9435897435897437\n",
      "f1_score для группы 127 = 0.47328244274809156\n",
      "f1_score для группы 128 = 0.9130434782608695\n",
      "f1_score для группы 129 = 0.2222222222222222\n",
      "0.4637408174797513\n"
     ]
    }
   ],
   "source": [
    "from sklearn.metrics import f1_score\n",
    "from sklearn.feature_extraction.text import TfidfVectorizer\n",
    "from itertools import chain\n",
    "my_aggl=Clustering(n_clusters=2, metric='cosine', linkage ='average' )\n",
    "x=[]\n",
    "y=[]\n",
    "Y=[]\n",
    "Y_PRED=[]\n",
    "for j in range(1,130):\n",
    "    x.clear()\n",
    "    y.clear()\n",
    "    for i in range(len(traingroups_titledata[j])):\n",
    "        x.append(traingroups_titledata[j][i][1])\n",
    "        y.append(traingroups_titledata[j][i][2])\n",
    "        Y.append(traingroups_titledata[j][i][2])\n",
    "    x_train = TfidfVectorizer(ngram_range=(1,3)).fit_transform(x)\n",
    "    x_train = x_train.toarray()\n",
    "    y_pred = my_aggl.fit_predict(x_train)\n",
    "    Y_PRED.append(y_pred) \n",
    "    print('f1_score для группы {} = {}'.format(j, f1_score(y, y_pred)))\n",
    "Y_PRED = list(chain(*Y_PRED))    \n",
    "print(f1_score(Y,Y_PRED))"
   ]
  },
  {
   "cell_type": "code",
   "execution_count": 25,
   "metadata": {},
   "outputs": [
    {
     "name": "stdout",
     "output_type": "stream",
     "text": [
      "0.4637408174797513\n"
     ]
    }
   ],
   "source": [
    "print(f1_score(Y,Y_PRED))"
   ]
  },
  {
   "cell_type": "markdown",
   "metadata": {
    "collapsed": true
   },
   "source": [
    "Если получилось найти выбросы с помощью кластеризации, то не забывайте использовать его в финальном решении. Помните - использование различных подходов к решению задачи всегда улучшает финального качество."
   ]
  },
  {
   "cell_type": "markdown",
   "metadata": {},
   "source": [
    "Здесь Вы можете оставить отзыв о этой домашней работе или о всем курсе.   "
   ]
  },
  {
   "cell_type": "markdown",
   "metadata": {},
   "source": [
    "*** ВАШ ОТЗЫВ ЗДЕСЬ***"
   ]
  },
  {
   "cell_type": "markdown",
   "metadata": {
    "collapsed": true
   },
   "source": []
  },
  {
   "cell_type": "markdown",
   "metadata": {
    "collapsed": true
   },
   "source": []
  }
 ],
 "metadata": {
  "anaconda-cloud": {},
  "kernelspec": {
   "display_name": "Python 3",
   "language": "python",
   "name": "python3"
  },
  "language_info": {
   "codemirror_mode": {
    "name": "ipython",
    "version": 3
   },
   "file_extension": ".py",
   "mimetype": "text/x-python",
   "name": "python",
   "nbconvert_exporter": "python",
   "pygments_lexer": "ipython3",
   "version": "3.7.4"
  }
 },
 "nbformat": 4,
 "nbformat_minor": 1
}
